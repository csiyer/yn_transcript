{
 "cells": [
  {
   "cell_type": "markdown",
   "metadata": {},
   "source": [
    "# Trial transcript yes/no analysis\n",
    "\n",
    "This code will read trial transcript PDFs and for each witness (and each questioner) quantify how many yes/no questions that witness is asked.\n",
    "\n",
    "Authors: Chris Iyer, Miles Zoltak\n",
    "Updated: 5/20/2024"
   ]
  },
  {
   "cell_type": "markdown",
   "metadata": {},
   "source": [
    "Input:\n",
    "- file path of folder containing transcript PDFs\n",
    "\n",
    "Desired output:\n",
    "- quantified # of yes/no questions + total questions asked to each witness, by each questioner\n",
    "\n",
    "Pipeline:\n",
    "- Extract text from PDF with OCR\n",
    "- Identify start of each witness's questioning\n",
    "- Identify questions, and who is asking them\n",
    "- Classify questions as yes/no or not"
   ]
  },
  {
   "cell_type": "markdown",
   "metadata": {},
   "source": [
    "# Data loading and processing"
   ]
  },
  {
   "cell_type": "code",
   "execution_count": 1,
   "metadata": {},
   "outputs": [],
   "source": [
    "import os\n",
    "dir_path = \"example_transcripts\"\n",
    "files = [f for f in sorted(os.listdir(dir_path))]"
   ]
  },
  {
   "cell_type": "code",
   "execution_count": 2,
   "metadata": {},
   "outputs": [
    {
     "name": "stdout",
     "output_type": "stream",
     "text": [
      "Collecting pypdf\n",
      "  Downloading pypdf-4.2.0-py3-none-any.whl (290 kB)\n",
      "     ---------------------------------------- 0.0/290.4 kB ? eta -:--:--\n",
      "     -------------------------------------- 290.4/290.4 kB 9.0 MB/s eta 0:00:00\n",
      "Installing collected packages: pypdf\n",
      "Successfully installed pypdf-4.2.0\n",
      "Requirement already satisfied: tqdm in c:\\users\\ciyer\\miniconda3\\envs\\lab\\lib\\site-packages (4.65.0)\n",
      "Requirement already satisfied: colorama in c:\\users\\ciyer\\miniconda3\\envs\\lab\\lib\\site-packages (from tqdm) (0.4.6)\n"
     ]
    }
   ],
   "source": [
    "!pip install pypdf\n",
    "!pip install tqdm"
   ]
  },
  {
   "cell_type": "code",
   "execution_count": 4,
   "metadata": {},
   "outputs": [
    {
     "name": "stdout",
     "output_type": "stream",
     "text": [
      "Processing PDFs to text\n"
     ]
    },
    {
     "name": "stderr",
     "output_type": "stream",
     "text": [
      " 61%|██████    | 20/33 [00:21<00:17,  1.38s/it]"
     ]
    }
   ],
   "source": [
    "from pypdf import PdfReader\n",
    "from tqdm import tqdm\n",
    "\n",
    "reader_dict = {fname: PdfReader(os.path.join(dir_path, fname)) for fname in files}\n",
    "\n",
    "print('Processing PDFs to text')\n",
    "# pages_dict = {fname: [page.extract_text() for page in reader.pages] for fname, reader in reader_dict.items()}\n",
    "pages_dict = {}\n",
    "for fname, reader in tqdm(reader_dict.items(), total=len(reader_dict)):\n",
    "  pages_dict[fname] = [page.extract_text() for page in reader.pages]"
   ]
  },
  {
   "cell_type": "code",
   "execution_count": null,
   "metadata": {},
   "outputs": [],
   "source": []
  },
  {
   "cell_type": "markdown",
   "metadata": {},
   "source": [
    "# Second bullet point idk"
   ]
  },
  {
   "cell_type": "code",
   "execution_count": null,
   "metadata": {},
   "outputs": [],
   "source": []
  },
  {
   "cell_type": "markdown",
   "metadata": {},
   "source": [
    "# Let's go for a third"
   ]
  },
  {
   "cell_type": "code",
   "execution_count": null,
   "metadata": {},
   "outputs": [],
   "source": []
  }
 ],
 "metadata": {
  "kernelspec": {
   "display_name": "lab",
   "language": "python",
   "name": "python3"
  },
  "language_info": {
   "codemirror_mode": {
    "name": "ipython",
    "version": 3
   },
   "file_extension": ".py",
   "mimetype": "text/x-python",
   "name": "python",
   "nbconvert_exporter": "python",
   "pygments_lexer": "ipython3",
   "version": "3.11.3"
  }
 },
 "nbformat": 4,
 "nbformat_minor": 2
}
